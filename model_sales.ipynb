{
 "cells": [
  {
   "cell_type": "code",
   "execution_count": 2,
   "id": "7066ae3d",
   "metadata": {},
   "outputs": [],
   "source": [
    "import pandas as pd\n",
    "import matplotlib.pyplot as plt\n",
    "import missingno as msno\n",
    "from sklearn.tree import DecisionTreeClassifier\n",
    "from sklearn.model_selection import train_test_split \n",
    "from sklearn.metrics import accuracy_score, confusion_matrix \n",
    "from sklearn.ensemble import RandomForestClassifier\n",
    "from sklearn.model_selection import GridSearchCV\n",
    "from sklearn.preprocessing import StandardScaler\n",
    "from sklearn.preprocessing import OneHotEncoder\n",
    "from sklearn.linear_model import LogisticRegression, LinearRegression\n",
    "from sklearn.metrics import accuracy_score, confusion_matrix, mean_absolute_error\n",
    "from sklearn.model_selection import train_test_split \n",
    "from sklearn.neural_network import MLPClassifier\n",
    "import sys\n",
    "if not sys.warnoptions:\n",
    "    import warnings\n",
    "    warnings.simplefilter(\"ignore\")"
   ]
  },
  {
   "cell_type": "code",
   "execution_count": 3,
   "id": "38555531",
   "metadata": {},
   "outputs": [],
   "source": [
    "df = pd.read_pickle(' all_data.pkl ')"
   ]
  },
  {
   "cell_type": "code",
   "execution_count": 4,
   "id": "12f36c87",
   "metadata": {},
   "outputs": [],
   "source": [
    "df_choise = df.head(100000)"
   ]
  },
  {
   "cell_type": "code",
   "execution_count": 5,
   "id": "1d558f9b",
   "metadata": {},
   "outputs": [
    {
     "data": {
      "text/plain": [
       "id               0\n",
       "gender           0\n",
       "age              0\n",
       "education        0\n",
       "city             0\n",
       "country          0\n",
       "lbt_coef         0\n",
       "ac_coef          0\n",
       "sm_coef          0\n",
       "personal_coef    0\n",
       "product          0\n",
       "colour           0\n",
       "cost             0\n",
       "product_sex      0\n",
       "base_sale        0\n",
       "dt               0\n",
       "dtype: int64"
      ]
     },
     "execution_count": 5,
     "metadata": {},
     "output_type": "execute_result"
    }
   ],
   "source": [
    "df_choise.isnull().sum()"
   ]
  },
  {
   "cell_type": "code",
   "execution_count": 6,
   "id": "06d2b827",
   "metadata": {},
   "outputs": [
    {
     "data": {
      "text/html": [
       "<div>\n",
       "<style scoped>\n",
       "    .dataframe tbody tr th:only-of-type {\n",
       "        vertical-align: middle;\n",
       "    }\n",
       "\n",
       "    .dataframe tbody tr th {\n",
       "        vertical-align: top;\n",
       "    }\n",
       "\n",
       "    .dataframe thead th {\n",
       "        text-align: right;\n",
       "    }\n",
       "</style>\n",
       "<table border=\"1\" class=\"dataframe\">\n",
       "  <thead>\n",
       "    <tr style=\"text-align: right;\">\n",
       "      <th></th>\n",
       "      <th>id</th>\n",
       "      <th>gender</th>\n",
       "      <th>age</th>\n",
       "      <th>education</th>\n",
       "      <th>city</th>\n",
       "      <th>country</th>\n",
       "      <th>lbt_coef</th>\n",
       "      <th>ac_coef</th>\n",
       "      <th>sm_coef</th>\n",
       "      <th>personal_coef</th>\n",
       "      <th>product</th>\n",
       "      <th>colour</th>\n",
       "      <th>cost</th>\n",
       "      <th>product_sex</th>\n",
       "      <th>base_sale</th>\n",
       "      <th>dt</th>\n",
       "      <th>buy</th>\n",
       "    </tr>\n",
       "  </thead>\n",
       "  <tbody>\n",
       "    <tr>\n",
       "      <th>0</th>\n",
       "      <td>0</td>\n",
       "      <td>0</td>\n",
       "      <td>36</td>\n",
       "      <td>среднее</td>\n",
       "      <td>1201</td>\n",
       "      <td>32</td>\n",
       "      <td>5.078678</td>\n",
       "      <td>-0.307147</td>\n",
       "      <td>0.959027</td>\n",
       "      <td>0.5072</td>\n",
       "      <td>Велосипед горный женский Stern Mira 2.0 26\"</td>\n",
       "      <td>белый/синий</td>\n",
       "      <td>13599</td>\n",
       "      <td>0.0</td>\n",
       "      <td>1</td>\n",
       "      <td>7</td>\n",
       "      <td>1</td>\n",
       "    </tr>\n",
       "    <tr>\n",
       "      <th>1</th>\n",
       "      <td>0</td>\n",
       "      <td>0</td>\n",
       "      <td>36</td>\n",
       "      <td>среднее</td>\n",
       "      <td>1201</td>\n",
       "      <td>32</td>\n",
       "      <td>5.078678</td>\n",
       "      <td>-0.307147</td>\n",
       "      <td>0.959027</td>\n",
       "      <td>0.5072</td>\n",
       "      <td>Стол Outventure</td>\n",
       "      <td>зелёный</td>\n",
       "      <td>1499</td>\n",
       "      <td>0.0</td>\n",
       "      <td>0</td>\n",
       "      <td>37</td>\n",
       "      <td>1</td>\n",
       "    </tr>\n",
       "    <tr>\n",
       "      <th>2</th>\n",
       "      <td>0</td>\n",
       "      <td>0</td>\n",
       "      <td>36</td>\n",
       "      <td>среднее</td>\n",
       "      <td>1201</td>\n",
       "      <td>32</td>\n",
       "      <td>5.078678</td>\n",
       "      <td>-0.307147</td>\n",
       "      <td>0.959027</td>\n",
       "      <td>0.5072</td>\n",
       "      <td>Набор Outventure: стол + 4 стула</td>\n",
       "      <td>бежевый</td>\n",
       "      <td>4799</td>\n",
       "      <td>0.0</td>\n",
       "      <td>0</td>\n",
       "      <td>37</td>\n",
       "      <td>1</td>\n",
       "    </tr>\n",
       "    <tr>\n",
       "      <th>5</th>\n",
       "      <td>4</td>\n",
       "      <td>0</td>\n",
       "      <td>35</td>\n",
       "      <td>среднее</td>\n",
       "      <td>1134</td>\n",
       "      <td>32</td>\n",
       "      <td>4.569378</td>\n",
       "      <td>0.063693</td>\n",
       "      <td>0.820892</td>\n",
       "      <td>0.5072</td>\n",
       "      <td>Роликовые коньки детские Roces Yuma TIF</td>\n",
       "      <td>мультицвет</td>\n",
       "      <td>6999</td>\n",
       "      <td>0.0</td>\n",
       "      <td>0</td>\n",
       "      <td>1</td>\n",
       "      <td>1</td>\n",
       "    </tr>\n",
       "    <tr>\n",
       "      <th>6</th>\n",
       "      <td>4</td>\n",
       "      <td>0</td>\n",
       "      <td>35</td>\n",
       "      <td>среднее</td>\n",
       "      <td>1134</td>\n",
       "      <td>32</td>\n",
       "      <td>4.569378</td>\n",
       "      <td>0.063693</td>\n",
       "      <td>0.820892</td>\n",
       "      <td>0.5072</td>\n",
       "      <td>Набор защиты из 3-х предметов детский Reaction...</td>\n",
       "      <td>белый/серый</td>\n",
       "      <td>999</td>\n",
       "      <td>0.0</td>\n",
       "      <td>0</td>\n",
       "      <td>1</td>\n",
       "      <td>1</td>\n",
       "    </tr>\n",
       "    <tr>\n",
       "      <th>...</th>\n",
       "      <td>...</td>\n",
       "      <td>...</td>\n",
       "      <td>...</td>\n",
       "      <td>...</td>\n",
       "      <td>...</td>\n",
       "      <td>...</td>\n",
       "      <td>...</td>\n",
       "      <td>...</td>\n",
       "      <td>...</td>\n",
       "      <td>...</td>\n",
       "      <td>...</td>\n",
       "      <td>...</td>\n",
       "      <td>...</td>\n",
       "      <td>...</td>\n",
       "      <td>...</td>\n",
       "      <td>...</td>\n",
       "      <td>...</td>\n",
       "    </tr>\n",
       "    <tr>\n",
       "      <th>99823</th>\n",
       "      <td>26184</td>\n",
       "      <td>0</td>\n",
       "      <td>57</td>\n",
       "      <td>среднее</td>\n",
       "      <td>1196</td>\n",
       "      <td>32</td>\n",
       "      <td>5.998790</td>\n",
       "      <td>-0.050220</td>\n",
       "      <td>0.930616</td>\n",
       "      <td>0.5072</td>\n",
       "      <td>Бассейн Bestway</td>\n",
       "      <td>синий</td>\n",
       "      <td>3599</td>\n",
       "      <td>0.0</td>\n",
       "      <td>0</td>\n",
       "      <td>0</td>\n",
       "      <td>0</td>\n",
       "    </tr>\n",
       "    <tr>\n",
       "      <th>99824</th>\n",
       "      <td>26184</td>\n",
       "      <td>0</td>\n",
       "      <td>57</td>\n",
       "      <td>среднее</td>\n",
       "      <td>1196</td>\n",
       "      <td>32</td>\n",
       "      <td>5.998790</td>\n",
       "      <td>-0.050220</td>\n",
       "      <td>0.930616</td>\n",
       "      <td>0.5072</td>\n",
       "      <td>Насос электрический Intex 220-240V Quick-Fill</td>\n",
       "      <td>черный</td>\n",
       "      <td>1799</td>\n",
       "      <td>0.0</td>\n",
       "      <td>0</td>\n",
       "      <td>0</td>\n",
       "      <td>0</td>\n",
       "    </tr>\n",
       "    <tr>\n",
       "      <th>99833</th>\n",
       "      <td>26190</td>\n",
       "      <td>1</td>\n",
       "      <td>25</td>\n",
       "      <td>высшее</td>\n",
       "      <td>1134</td>\n",
       "      <td>32</td>\n",
       "      <td>6.789348</td>\n",
       "      <td>0.400776</td>\n",
       "      <td>0.689414</td>\n",
       "      <td>0.4688</td>\n",
       "      <td>Кеды мужские Demix Board 4</td>\n",
       "      <td>белый</td>\n",
       "      <td>3199</td>\n",
       "      <td>1.0</td>\n",
       "      <td>0</td>\n",
       "      <td>0</td>\n",
       "      <td>0</td>\n",
       "    </tr>\n",
       "    <tr>\n",
       "      <th>99906</th>\n",
       "      <td>26217</td>\n",
       "      <td>0</td>\n",
       "      <td>42</td>\n",
       "      <td>среднее</td>\n",
       "      <td>1194</td>\n",
       "      <td>32</td>\n",
       "      <td>4.810093</td>\n",
       "      <td>0.043242</td>\n",
       "      <td>0.755476</td>\n",
       "      <td>0.5072</td>\n",
       "      <td>Легинсы женские GSD</td>\n",
       "      <td>сиреневый</td>\n",
       "      <td>699</td>\n",
       "      <td>0.0</td>\n",
       "      <td>1</td>\n",
       "      <td>0</td>\n",
       "      <td>0</td>\n",
       "    </tr>\n",
       "    <tr>\n",
       "      <th>99908</th>\n",
       "      <td>26218</td>\n",
       "      <td>0</td>\n",
       "      <td>58</td>\n",
       "      <td>среднее</td>\n",
       "      <td>1201</td>\n",
       "      <td>32</td>\n",
       "      <td>5.940933</td>\n",
       "      <td>-0.345204</td>\n",
       "      <td>1.441718</td>\n",
       "      <td>0.5072</td>\n",
       "      <td>Толстовка женская FILA</td>\n",
       "      <td>Unknown</td>\n",
       "      <td>1999</td>\n",
       "      <td>0.0</td>\n",
       "      <td>0</td>\n",
       "      <td>0</td>\n",
       "      <td>0</td>\n",
       "    </tr>\n",
       "  </tbody>\n",
       "</table>\n",
       "<p>100000 rows × 17 columns</p>\n",
       "</div>"
      ],
      "text/plain": [
       "          id  gender  age education  city  country  lbt_coef   ac_coef  \\\n",
       "0          0       0   36   среднее  1201       32  5.078678 -0.307147   \n",
       "1          0       0   36   среднее  1201       32  5.078678 -0.307147   \n",
       "2          0       0   36   среднее  1201       32  5.078678 -0.307147   \n",
       "5          4       0   35   среднее  1134       32  4.569378  0.063693   \n",
       "6          4       0   35   среднее  1134       32  4.569378  0.063693   \n",
       "...      ...     ...  ...       ...   ...      ...       ...       ...   \n",
       "99823  26184       0   57   среднее  1196       32  5.998790 -0.050220   \n",
       "99824  26184       0   57   среднее  1196       32  5.998790 -0.050220   \n",
       "99833  26190       1   25    высшее  1134       32  6.789348  0.400776   \n",
       "99906  26217       0   42   среднее  1194       32  4.810093  0.043242   \n",
       "99908  26218       0   58   среднее  1201       32  5.940933 -0.345204   \n",
       "\n",
       "        sm_coef  personal_coef  \\\n",
       "0      0.959027         0.5072   \n",
       "1      0.959027         0.5072   \n",
       "2      0.959027         0.5072   \n",
       "5      0.820892         0.5072   \n",
       "6      0.820892         0.5072   \n",
       "...         ...            ...   \n",
       "99823  0.930616         0.5072   \n",
       "99824  0.930616         0.5072   \n",
       "99833  0.689414         0.4688   \n",
       "99906  0.755476         0.5072   \n",
       "99908  1.441718         0.5072   \n",
       "\n",
       "                                                 product       colour   cost  \\\n",
       "0            Велосипед горный женский Stern Mira 2.0 26\"  белый/синий  13599   \n",
       "1                                        Стол Outventure      зелёный   1499   \n",
       "2                       Набор Outventure: стол + 4 стула      бежевый   4799   \n",
       "5                Роликовые коньки детские Roces Yuma TIF   мультицвет   6999   \n",
       "6      Набор защиты из 3-х предметов детский Reaction...  белый/серый    999   \n",
       "...                                                  ...          ...    ...   \n",
       "99823                                    Бассейн Bestway        синий   3599   \n",
       "99824      Насос электрический Intex 220-240V Quick-Fill       черный   1799   \n",
       "99833                         Кеды мужские Demix Board 4        белый   3199   \n",
       "99906                                Легинсы женские GSD    сиреневый    699   \n",
       "99908                             Толстовка женская FILA      Unknown   1999   \n",
       "\n",
       "       product_sex  base_sale  dt  buy  \n",
       "0              0.0          1   7    1  \n",
       "1              0.0          0  37    1  \n",
       "2              0.0          0  37    1  \n",
       "5              0.0          0   1    1  \n",
       "6              0.0          0   1    1  \n",
       "...            ...        ...  ..  ...  \n",
       "99823          0.0          0   0    0  \n",
       "99824          0.0          0   0    0  \n",
       "99833          1.0          0   0    0  \n",
       "99906          0.0          1   0    0  \n",
       "99908          0.0          0   0    0  \n",
       "\n",
       "[100000 rows x 17 columns]"
      ]
     },
     "execution_count": 6,
     "metadata": {},
     "output_type": "execute_result"
    }
   ],
   "source": [
    "df_choise['buy'] = None\n",
    "dfno = df_choise.loc[df_choise['dt']==0]\n",
    "dfye = df_choise.loc[df_choise['dt']>0]\n",
    "dfye['buy'] = dfye['buy'].apply(lambda x: 1)\n",
    "dfno['buy'] = dfno['buy'].apply(lambda x: 0)\n",
    "dfans = pd.concat([dfye,dfno])\n",
    "dfans"
   ]
  },
  {
   "cell_type": "code",
   "execution_count": 7,
   "id": "4976074b",
   "metadata": {},
   "outputs": [],
   "source": [
    "df_categorial = dfans[['education','product','colour']]\n",
    "df_numeric = dfans[['id','age','gender','city',\n",
    "                        'country','product_sex','cost','base_sale','dt','personal_coef']]"
   ]
  },
  {
   "cell_type": "code",
   "execution_count": 8,
   "id": "3db4238e",
   "metadata": {},
   "outputs": [],
   "source": [
    "sc = StandardScaler()\n",
    "dfsc = sc.fit_transform(df_numeric)"
   ]
  },
  {
   "cell_type": "code",
   "execution_count": 9,
   "id": "d70ad463",
   "metadata": {},
   "outputs": [],
   "source": [
    "std_scaler_data = sc.transform(df_numeric)"
   ]
  },
  {
   "cell_type": "code",
   "execution_count": 10,
   "id": "f967dd35",
   "metadata": {},
   "outputs": [],
   "source": [
    "dfans[['id','age','gender','city',\n",
    "                        'country','product_sex','cost','base_sale','dt','personal_coef']] = std_scaler_data"
   ]
  },
  {
   "cell_type": "code",
   "execution_count": 11,
   "id": "e3b434e8",
   "metadata": {},
   "outputs": [],
   "source": [
    "ohe = OneHotEncoder(sparse_output=False)"
   ]
  },
  {
   "cell_type": "code",
   "execution_count": 12,
   "id": "02cb2cdd",
   "metadata": {},
   "outputs": [
    {
     "data": {
      "text/html": [
       "<style>#sk-container-id-1 {color: black;}#sk-container-id-1 pre{padding: 0;}#sk-container-id-1 div.sk-toggleable {background-color: white;}#sk-container-id-1 label.sk-toggleable__label {cursor: pointer;display: block;width: 100%;margin-bottom: 0;padding: 0.3em;box-sizing: border-box;text-align: center;}#sk-container-id-1 label.sk-toggleable__label-arrow:before {content: \"▸\";float: left;margin-right: 0.25em;color: #696969;}#sk-container-id-1 label.sk-toggleable__label-arrow:hover:before {color: black;}#sk-container-id-1 div.sk-estimator:hover label.sk-toggleable__label-arrow:before {color: black;}#sk-container-id-1 div.sk-toggleable__content {max-height: 0;max-width: 0;overflow: hidden;text-align: left;background-color: #f0f8ff;}#sk-container-id-1 div.sk-toggleable__content pre {margin: 0.2em;color: black;border-radius: 0.25em;background-color: #f0f8ff;}#sk-container-id-1 input.sk-toggleable__control:checked~div.sk-toggleable__content {max-height: 200px;max-width: 100%;overflow: auto;}#sk-container-id-1 input.sk-toggleable__control:checked~label.sk-toggleable__label-arrow:before {content: \"▾\";}#sk-container-id-1 div.sk-estimator input.sk-toggleable__control:checked~label.sk-toggleable__label {background-color: #d4ebff;}#sk-container-id-1 div.sk-label input.sk-toggleable__control:checked~label.sk-toggleable__label {background-color: #d4ebff;}#sk-container-id-1 input.sk-hidden--visually {border: 0;clip: rect(1px 1px 1px 1px);clip: rect(1px, 1px, 1px, 1px);height: 1px;margin: -1px;overflow: hidden;padding: 0;position: absolute;width: 1px;}#sk-container-id-1 div.sk-estimator {font-family: monospace;background-color: #f0f8ff;border: 1px dotted black;border-radius: 0.25em;box-sizing: border-box;margin-bottom: 0.5em;}#sk-container-id-1 div.sk-estimator:hover {background-color: #d4ebff;}#sk-container-id-1 div.sk-parallel-item::after {content: \"\";width: 100%;border-bottom: 1px solid gray;flex-grow: 1;}#sk-container-id-1 div.sk-label:hover label.sk-toggleable__label {background-color: #d4ebff;}#sk-container-id-1 div.sk-serial::before {content: \"\";position: absolute;border-left: 1px solid gray;box-sizing: border-box;top: 0;bottom: 0;left: 50%;z-index: 0;}#sk-container-id-1 div.sk-serial {display: flex;flex-direction: column;align-items: center;background-color: white;padding-right: 0.2em;padding-left: 0.2em;position: relative;}#sk-container-id-1 div.sk-item {position: relative;z-index: 1;}#sk-container-id-1 div.sk-parallel {display: flex;align-items: stretch;justify-content: center;background-color: white;position: relative;}#sk-container-id-1 div.sk-item::before, #sk-container-id-1 div.sk-parallel-item::before {content: \"\";position: absolute;border-left: 1px solid gray;box-sizing: border-box;top: 0;bottom: 0;left: 50%;z-index: -1;}#sk-container-id-1 div.sk-parallel-item {display: flex;flex-direction: column;z-index: 1;position: relative;background-color: white;}#sk-container-id-1 div.sk-parallel-item:first-child::after {align-self: flex-end;width: 50%;}#sk-container-id-1 div.sk-parallel-item:last-child::after {align-self: flex-start;width: 50%;}#sk-container-id-1 div.sk-parallel-item:only-child::after {width: 0;}#sk-container-id-1 div.sk-dashed-wrapped {border: 1px dashed gray;margin: 0 0.4em 0.5em 0.4em;box-sizing: border-box;padding-bottom: 0.4em;background-color: white;}#sk-container-id-1 div.sk-label label {font-family: monospace;font-weight: bold;display: inline-block;line-height: 1.2em;}#sk-container-id-1 div.sk-label-container {text-align: center;}#sk-container-id-1 div.sk-container {/* jupyter's `normalize.less` sets `[hidden] { display: none; }` but bootstrap.min.css set `[hidden] { display: none !important; }` so we also need the `!important` here to be able to override the default hidden behavior on the sphinx rendered scikit-learn.org. See: https://github.com/scikit-learn/scikit-learn/issues/21755 */display: inline-block !important;position: relative;}#sk-container-id-1 div.sk-text-repr-fallback {display: none;}</style><div id=\"sk-container-id-1\" class=\"sk-top-container\"><div class=\"sk-text-repr-fallback\"><pre>OneHotEncoder(sparse_output=False)</pre><b>In a Jupyter environment, please rerun this cell to show the HTML representation or trust the notebook. <br />On GitHub, the HTML representation is unable to render, please try loading this page with nbviewer.org.</b></div><div class=\"sk-container\" hidden><div class=\"sk-item\"><div class=\"sk-estimator sk-toggleable\"><input class=\"sk-toggleable__control sk-hidden--visually\" id=\"sk-estimator-id-1\" type=\"checkbox\" checked><label for=\"sk-estimator-id-1\" class=\"sk-toggleable__label sk-toggleable__label-arrow\">OneHotEncoder</label><div class=\"sk-toggleable__content\"><pre>OneHotEncoder(sparse_output=False)</pre></div></div></div></div></div>"
      ],
      "text/plain": [
       "OneHotEncoder(sparse_output=False)"
      ]
     },
     "execution_count": 12,
     "metadata": {},
     "output_type": "execute_result"
    }
   ],
   "source": [
    "ohe.fit(df_categorial)"
   ]
  },
  {
   "cell_type": "code",
   "execution_count": 13,
   "id": "5f184a8d",
   "metadata": {},
   "outputs": [],
   "source": [
    "ohe1 = ohe.transform(df_categorial)"
   ]
  },
  {
   "cell_type": "code",
   "execution_count": 14,
   "id": "8c8c7bfb",
   "metadata": {},
   "outputs": [],
   "source": [
    "dfans[ohe.get_feature_names_out()] = ohe1"
   ]
  },
  {
   "cell_type": "code",
   "execution_count": 15,
   "id": "da62fc54",
   "metadata": {},
   "outputs": [],
   "source": [
    "dfans =dfans.drop(['education','product','colour'],axis=1)"
   ]
  },
  {
   "cell_type": "code",
   "execution_count": 16,
   "id": "8ceba41a",
   "metadata": {},
   "outputs": [],
   "source": [
    "dfans = dfans.drop(['lbt_coef','ac_coef','sm_coef'],axis=1)"
   ]
  },
  {
   "cell_type": "code",
   "execution_count": 17,
   "id": "b07fbd60",
   "metadata": {},
   "outputs": [],
   "source": [
    "df_prepared = dfans.copy()\n",
    "\n",
    "x = df_prepared.drop(['buy'], axis=1)\n",
    "y = df_prepared['buy']\n",
    "\n",
    "x_train, x_test, y_train, y_test = train_test_split(x, y, test_size=0.4, random_state=42)"
   ]
  },
  {
   "cell_type": "code",
   "execution_count": 18,
   "id": "15c5e427",
   "metadata": {},
   "outputs": [
    {
     "data": {
      "text/plain": [
       "1.0"
      ]
     },
     "execution_count": 18,
     "metadata": {},
     "output_type": "execute_result"
    }
   ],
   "source": [
    "lg = LogisticRegression()\n",
    "lg.fit(x_train,y_train)\n",
    "pred = lg.predict(x_train)\n",
    "accuracy_score(y_train,pred)"
   ]
  },
  {
   "cell_type": "code",
   "execution_count": 19,
   "id": "bdb59997",
   "metadata": {},
   "outputs": [
    {
     "data": {
      "text/plain": [
       "1.0"
      ]
     },
     "execution_count": 19,
     "metadata": {},
     "output_type": "execute_result"
    }
   ],
   "source": [
    "base_rf2 = RandomForestClassifier()\n",
    "base_rf2.fit(x_train, y_train)\n",
    "preds2 = base_rf2.predict(x_train)\n",
    "accuracy_score(y_train,preds2)"
   ]
  },
  {
   "cell_type": "code",
   "execution_count": 20,
   "id": "287b9cef",
   "metadata": {},
   "outputs": [
    {
     "data": {
      "text/plain": [
       "{'fit_time': array([314.09164119, 480.585356  , 481.161484  , 415.50515509,\n",
       "        465.176682  ]),\n",
       " 'score_time': array([4.79184008, 5.49395299, 5.33723807, 5.20039487, 4.17735624]),\n",
       " 'test_score': array([1.     , 1.     , 1.     , 1.     , 0.04005])}"
      ]
     },
     "execution_count": 20,
     "metadata": {},
     "output_type": "execute_result"
    }
   ],
   "source": [
    "from sklearn.model_selection import cross_validate\n",
    "from sklearn.model_selection import cross_val_score\n",
    "cross_validate(base_rf2, x, y, cv=5)"
   ]
  },
  {
   "cell_type": "code",
   "execution_count": 21,
   "id": "af0f93f0",
   "metadata": {},
   "outputs": [
    {
     "data": {
      "text/plain": [
       "(0.84154, 0.31692000000000004)"
      ]
     },
     "execution_count": 21,
     "metadata": {},
     "output_type": "execute_result"
    }
   ],
   "source": [
    "n = cross_val_score(base_rf2, x, y, cv=5)\n",
    "n.mean() , n.std()"
   ]
  },
  {
   "cell_type": "code",
   "execution_count": 22,
   "id": "d5dfa4c0",
   "metadata": {},
   "outputs": [
    {
     "data": {
      "text/plain": [
       "{'fit_time': array([249.4331162 , 283.38053203, 217.67373085, 229.27759886,\n",
       "        203.13607311]),\n",
       " 'score_time': array([2.93221402, 2.61804795, 2.61665511, 2.36284423, 2.45557904]),\n",
       " 'test_score': array([0.9999 , 0.99985, 0.99995, 1.     , 0.9997 ])}"
      ]
     },
     "execution_count": 22,
     "metadata": {},
     "output_type": "execute_result"
    }
   ],
   "source": [
    "cross_validate(lg, x, y, cv=5)"
   ]
  },
  {
   "cell_type": "code",
   "execution_count": 23,
   "id": "f9150af0",
   "metadata": {},
   "outputs": [
    {
     "data": {
      "text/plain": [
       "(0.9998800000000001, 0.00010295630140985866)"
      ]
     },
     "execution_count": 23,
     "metadata": {},
     "output_type": "execute_result"
    }
   ],
   "source": [
    "n = cross_val_score(lg, x, y, cv=5)\n",
    "n.mean() , n.std()"
   ]
  },
  {
   "cell_type": "code",
   "execution_count": null,
   "id": "747502fb",
   "metadata": {},
   "outputs": [],
   "source": []
  }
 ],
 "metadata": {
  "kernelspec": {
   "display_name": "Python 3 (ipykernel)",
   "language": "python",
   "name": "python3"
  },
  "language_info": {
   "codemirror_mode": {
    "name": "ipython",
    "version": 3
   },
   "file_extension": ".py",
   "mimetype": "text/x-python",
   "name": "python",
   "nbconvert_exporter": "python",
   "pygments_lexer": "ipython3",
   "version": "3.11.5"
  }
 },
 "nbformat": 4,
 "nbformat_minor": 5
}
